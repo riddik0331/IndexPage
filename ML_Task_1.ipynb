{
  "nbformat": 4,
  "nbformat_minor": 0,
  "metadata": {
    "colab": {
      "provenance": [],
      "authorship_tag": "ABX9TyNMb74aYu7CY3E0MVrP2rNd",
      "include_colab_link": true
    },
    "kernelspec": {
      "name": "python3",
      "display_name": "Python 3"
    },
    "language_info": {
      "name": "python"
    }
  },
  "cells": [
    {
      "cell_type": "markdown",
      "metadata": {
        "id": "view-in-github",
        "colab_type": "text"
      },
      "source": [
        "<a href=\"https://colab.research.google.com/github/riddik0331/IndexPage/blob/main/ML_Task_1.ipynb\" target=\"_parent\"><img src=\"https://colab.research.google.com/assets/colab-badge.svg\" alt=\"Open In Colab\"/></a>"
      ]
    },
    {
      "cell_type": "code",
      "execution_count": null,
      "metadata": {
        "id": "03wPx4jZN4Ze"
      },
      "outputs": [],
      "source": []
    },
    {
      "cell_type": "markdown",
      "source": [
        "## 🎯 Cel zadania\n",
        "Na podstawie danych gościa (płeć, miejscowość pochodzenia oraz cena za dobę) zbuduj model klasyfikacyjny, który przewidzi **dzień tygodnia**, w którym gość przyjechał do hotelu.\n",
        "\n",
        "---\n",
        "\n",
        "## 📂 Dane wejściowe\n",
        "Plik `hotel_klasyfikacja.csv`, zawierający informacje o rezerwacjach hotelowych.\n",
        "\n",
        "Najważniejsze kolumny:\n",
        "- `plec` – płeć gościa (`M` lub `K`),\n",
        "- `miejscowosc` – miejscowość pochodzenia gościa,\n",
        "- `cena_za_dobe` – cena zapłacona za dobę,\n",
        "- `dzien_tygodnia` – dzień tygodnia, w którym gość przyjechał.\n",
        "\n",
        "---\n",
        "\n",
        "## 🔧 Zakres prac\n",
        "\n",
        "1. **Wczytaj dane i zapoznaj się z ich strukturą.**\n",
        "2. **Wybierz cechy wejściowe:** `plec`, `miejscowosc`, `cena_za_dobe`.\n",
        "3. **Zakoduj dane kategoryczne** (`plec`, `miejscowosc`, `dzien_tygodnia`) przy pomocy `LabelEncoder`.\n",
        "4. **Podziel dane** na zbiory: treningowy i testowy (`train_test_split`).\n",
        "5. **Zbuduj i przetestuj trzy modele klasyfikacyjne:**\n",
        "   - `RandomForestClassifier`\n",
        "   - `LogisticRegression`\n",
        "   - `KNeighborsClassifier`\n",
        "6. **Oceń skuteczność modeli:**\n",
        "   - metryka dokładności (`accuracy_score`)\n",
        "   - raport klasyfikacji (`classification_report`)\n",
        "7. **Dla modelu Random Forest wypisz ważność cech** (`feature_importances_`).\n",
        "8. **Przetestuj działanie modelu na nowym przypadku:**\n",
        "\n",
        "   > Przykład: kobieta z Krakowa, cena za dobę 320 zł → przewidź dzień tygodnia.\n",
        "\n",
        "---\n",
        "\n",
        "## 💡 Wskazówki techniczne\n",
        "\n",
        "- Do kodowania zmiennych tekstowych użyj `LabelEncoder`.\n",
        "- Pamiętaj, aby przy przewidywaniu nowych przypadków używać tych samych encoderów co wcześniej.\n",
        "- Wybierz model o najwyższej skuteczności do prognozowania nowych danych.\n",
        "\n",
        "---\n",
        "\n",
        "## 🎓 Rozszerzenie (dla chętnych)\n",
        "\n",
        "- Przetestuj więcej przypadków i sprawdź, jak zmiana miejscowości lub ceny wpływa na wynik.\n",
        "- Dodaj dodatkowe cechy, np. `standard` lub `nr_pokoju`, i sprawdź, czy poprawiają skuteczność.\n",
        "- Zrób wykresy rozkładu dni tygodnia względem płci lub miasta (`seaborn`, `matplotlib`).\n",
        "\n"
      ],
      "metadata": {
        "id": "W3biCQDaG4tU"
      }
    },
    {
      "cell_type": "markdown",
      "source": [
        "**Zanim zaczniesz zapoznaj się jeszcze z materiałem poniżej:**"
      ],
      "metadata": {
        "id": "PmQEvz1xJ4dN"
      }
    },
    {
      "cell_type": "code",
      "source": [
        "# 📌 Co to jest LabelEncoder?\n",
        "# LabelEncoder zamienia wartości tekstowe (np. 'M', 'K') na wartości liczbowe (np. 1, 0).\n",
        "# Jest to wymagane w wielu algorytmach ML, które operują na liczbach, a nie na tekstach.\n",
        "\n",
        "from sklearn.preprocessing import LabelEncoder\n",
        "import pandas as pd\n",
        "\n",
        "# Mamy dane kategoryczne (tekstowe)\n",
        "plec = pd.Series([\"M\", \"K\", \"K\", \"M\", \"K\"])\n",
        "\n",
        "# Tworzymy obiekt kodera\n",
        "encoder = LabelEncoder()\n",
        "\n",
        "# Uczymy kodera na danych i zamieniamy tekst na liczby\n",
        "plec_zakodowane = encoder.fit_transform(plec)\n",
        "\n",
        "# Wyświetlamy wyniki\n",
        "print(\"Oryginalne dane:\")\n",
        "print(plec.tolist())\n",
        "print(\"\\nZakodowane dane:\")\n",
        "print(plec_zakodowane.tolist())\n",
        "\n",
        "# Możemy także sprawdzić, jak wygląda mapa etykiet:\n",
        "print(\"\\nUnikalne klasy:\", encoder.classes_)\n",
        "\n",
        "# Odtworzenie oryginalnych danych z wartości liczbowych\n",
        "print(\"Odwrotne kodowanie:\", encoder.inverse_transform(plec_zakodowane))"
      ],
      "metadata": {
        "id": "me82yXiiIKTv",
        "colab": {
          "base_uri": "https://localhost:8080/"
        },
        "outputId": "9d323644-d351-4d84-980b-fbfe2c25ab37"
      },
      "execution_count": 1,
      "outputs": [
        {
          "output_type": "stream",
          "name": "stdout",
          "text": [
            "Oryginalne dane:\n",
            "['M', 'K', 'K', 'M', 'K']\n",
            "\n",
            "Zakodowane dane:\n",
            "[1, 0, 0, 1, 0]\n",
            "\n",
            "Unikalne klasy: ['K' 'M']\n",
            "Odwrotne kodowanie: ['M' 'K' 'K' 'M' 'K']\n"
          ]
        }
      ]
    },
    {
      "cell_type": "code",
      "source": [
        "# 📌 Co to jest ważność cech w Random Forest?\n",
        "# Wartości ważności cech (feature_importances_) wskazują,\n",
        "# jak duży wpływ każda cecha miała na decyzje podejmowane przez model.\n",
        "# Wartości te są zawsze z przedziału [0, 1], a ich suma wynosi 1.\n",
        "# Cecha o najwyższej wartości była najczęściej wykorzystywana\n",
        "# w podziałach drzewa i miała największy wpływ na predykcję.\n",
        "# Dzięki analizie ważności cech można:\n",
        "# - lepiej zrozumieć, które dane są istotne,\n",
        "# - uprościć model usuwając mało ważne cechy,\n",
        "# - poprawić interpretowalność wyników.\n",
        "\n",
        "import pandas as pd\n",
        "import matplotlib.pyplot as plt\n",
        "from sklearn.ensemble import RandomForestClassifier\n",
        "\n",
        "# Przykładowe dane wejściowe (X) i etykiety (y)\n",
        "X = pd.DataFrame({\n",
        "    \"wiek\": [25, 30, 45, 50, 23],\n",
        "    \"dochód\": [3000, 4000, 6000, 8000, 2000],\n",
        "    \"liczba_dzieci\": [0, 1, 2, 3, 0]\n",
        "})\n",
        "y = [0, 1, 1, 1, 0]  # Klasa: 0 – nie kupił, 1 – kupił\n",
        "\n",
        "# Tworzenie i trenowanie modelu Random Forest\n",
        "model = RandomForestClassifier(random_state=0)\n",
        "model.fit(X, y)\n",
        "\n",
        "# Obliczenie ważności cech\n",
        "importances = model.feature_importances_\n",
        "\n",
        "# Wyświetlenie ważności w formie tekstowej\n",
        "for cecha, waga in zip(X.columns, importances):\n",
        "    print(f\"Cecha: {cecha:15} | Ważność: {waga:.4f}\")\n",
        "\n",
        "\n",
        "# 📊 Wykres ważności cech\n",
        "plt.figure(figsize=(8, 5))\n",
        "plt.barh(X.columns, importances, color='teal')\n",
        "plt.xlabel(\"Ważność cechy\")\n",
        "plt.title(\"Wizualizacja ważności cech (Random Forest)\")\n",
        "plt.grid(True, axis='x', linestyle='--', alpha=0.5)\n",
        "plt.show()\n"
      ],
      "metadata": {
        "id": "4UYrqPUgJalj",
        "colab": {
          "base_uri": "https://localhost:8080/",
          "height": 542
        },
        "outputId": "94caba0d-640e-45af-c0a6-c124b1b42b3f"
      },
      "execution_count": 2,
      "outputs": [
        {
          "output_type": "stream",
          "name": "stdout",
          "text": [
            "Cecha: wiek            | Ważność: 0.2809\n",
            "Cecha: dochód          | Ważność: 0.4270\n",
            "Cecha: liczba_dzieci   | Ważność: 0.2921\n"
          ]
        },
        {
          "output_type": "display_data",
          "data": {
            "text/plain": [
              "<Figure size 800x500 with 1 Axes>"
            ],
            "image/png": "[encoded data removed]"
          },
          "metadata": {}
        }
      ]
    },
    {
      "cell_type": "markdown",
      "source": [
        "**Rozwiązanie zadania**"
      ],
      "metadata": {
        "id": "t5flhqn4KAq5"
      }
    },
    {
      "cell_type": "code",
      "source": [
        "# 1. Import bibliotek\n",
        "# Importujemy niezbędne biblioteki do wczytywania danych, przygotowania modelu i oceny wyników\n",
        "import gdown\n",
        "import pandas as pd\n",
        "from sklearn.model_selection import train_test_split\n",
        "from sklearn.preprocessing import LabelEncoder\n",
        "from sklearn.ensemble import RandomForestClassifier\n",
        "from sklearn.linear_model import LogisticRegression\n",
        "from sklearn.neighbors import KNeighborsClassifier\n",
        "from sklearn.metrics import accuracy_score, classification_report"
      ],
      "metadata": {
        "id": "-JsyMSo1Mjlw"
      },
      "execution_count": 3,
      "outputs": []
    },
    {
      "cell_type": "code",
      "source": [
        "# 2. Wczytanie danych\n",
        "# Wczytujemy dane z pliku CSV zawierające informacje o rezerwacjach hotelowych\n",
        "# https://drive.google.com/file/d/1oMPla7v9OG-RNCPdeQWkown9dQTeeFRA\n",
        "\n",
        "gdown.download('https://drive.google.com/uc?id=1oMPla7v9OG-RNCPdeQWkown9dQTeeFRA', 'hotel_klasyfikacja.csv')\n",
        "\n",
        "dane = pd.read_csv('hotel_klasyfikacja.csv')\n"
      ],
      "metadata": {
        "id": "-tmy0STvMmlZ",
        "colab": {
          "base_uri": "https://localhost:8080/"
        },
        "outputId": "7b25453f-dad2-45de-b0e9-76c6c5a14ff0"
      },
      "execution_count": 4,
      "outputs": [
        {
          "output_type": "stream",
          "name": "stderr",
          "text": [
            "Downloading...\n",
            "From: https://drive.google.com/uc?id=1oMPla7v9OG-RNCPdeQWkown9dQTeeFRA\n",
            "To: /content/hotel_klasyfikacja.csv\n",
            "100%|██████████| 79.7k/79.7k [00:00<00:00, 38.7MB/s]\n"
          ]
        }
      ]
    },
    {
      "cell_type": "code",
      "source": [
        "# 3. Podstawowa eksploracja danych\n",
        "# Sprawdzamy informacje o kolumnach oraz pierwsze rekordy, aby zapoznać się z danymi\n",
        "print(dane.info())\n",
        "print(dane.head())"
      ],
      "metadata": {
        "id": "ovpzdwgAJ_OL",
        "colab": {
          "base_uri": "https://localhost:8080/"
        },
        "outputId": "06ad7206-2a33-4606-f9f5-52d96208c387"
      },
      "execution_count": 5,
      "outputs": [
        {
          "output_type": "stream",
          "name": "stdout",
          "text": [
            "<class 'pandas.core.frame.DataFrame'>\n",
            "RangeIndex: 1030 entries, 0 to 1029\n",
            "Data columns (total 9 columns):\n",
            " #   Column          Non-Null Count  Dtype  \n",
            "---  ------          --------------  -----  \n",
            " 0   imie            1030 non-null   object \n",
            " 1   nazwisko        1030 non-null   object \n",
            " 2   miejscowosc     1030 non-null   object \n",
            " 3   plec            1030 non-null   object \n",
            " 4   nr_pokoju       1030 non-null   int64  \n",
            " 5   data_przyjazdu  1030 non-null   object \n",
            " 6   dzien_tygodnia  1030 non-null   object \n",
            " 7   standard        1030 non-null   object \n",
            " 8   cena_za_dobe    1030 non-null   float64\n",
            "dtypes: float64(1), int64(1), object(7)\n",
            "memory usage: 72.6+ KB\n",
            "None\n",
            "      imie    nazwisko miejscowosc plec  nr_pokoju data_przyjazdu  \\\n",
            "0    Pawel  Markiewicz      Lowicz    M        101     2022-07-04   \n",
            "1   Marcin       Borek      Rybnik    M        101     2022-07-07   \n",
            "2   Joanna       Benko     Wroclaw    K        101     2022-07-11   \n",
            "3     Adam   Pohorecki       Opole    M        101     2022-07-16   \n",
            "4  Mateusz   Wieczorek     Gliwice    M        101     2022-07-17   \n",
            "\n",
            "  dzien_tygodnia standard  cena_za_dobe  \n",
            "0   poniedziałek        N         220.0  \n",
            "1       czwartek        N         220.0  \n",
            "2   poniedziałek        N         220.0  \n",
            "3         sobota        N         220.0  \n",
            "4      niedziela        N         220.0  \n"
          ]
        }
      ]
    },
    {
      "cell_type": "code",
      "source": [
        "# 4. Przygotowanie danych (wybór cech i etykiety)\n",
        "dane = dane[['plec', 'miejscowosc', 'cena_za_dobe', 'dzien_tygodnia']]\n",
        "print(dane)\n",
        "# Kodowanie zmiennych kategorycznych\n",
        "# Zamieniamy dane tekstowe na wartości liczbowe\n",
        "encoders = {}\n",
        "for col in ['plec', 'miejscowosc', 'dzien_tygodnia']:\n",
        "    label_encoder = LabelEncoder()\n",
        "    dane[col] = label_encoder.fit_transform(dane[col])\n",
        "    encoders[col] = label_encoder\n",
        "\n",
        "# Wybieramy zmienne niezależne (cechy) i zmienną zależną (etykietę)\n",
        "# X = dane.drop('dzien_tygodnia', axis=1)\n",
        "# y = dane['dzien_tygodnia']\n",
        "X = dane.iloc[:, :-1]\n",
        "y = dane.iloc[:, -1]\n",
        "print(X)\n",
        "print(y)\n"
      ],
      "metadata": {
        "id": "LumnFSRJMyji",
        "colab": {
          "base_uri": "https://localhost:8080/"
        },
        "outputId": "92fb39d5-99d1-4c2e-b3f8-8094926a062f"
      },
      "execution_count": 6,
      "outputs": [
        {
          "output_type": "stream",
          "name": "stdout",
          "text": [
            "     plec       miejscowosc  cena_za_dobe dzien_tygodnia\n",
            "0       M            Lowicz         220.0   poniedziałek\n",
            "1       M            Rybnik         220.0       czwartek\n",
            "2       K           Wroclaw         220.0   poniedziałek\n",
            "3       M             Opole         220.0         sobota\n",
            "4       M           Gliwice         220.0      niedziela\n",
            "...   ...               ...           ...            ...\n",
            "1025    K           Chorzow         600.0   poniedziałek\n",
            "1026    M            Kalisz         600.0   poniedziałek\n",
            "1027    M            Kielce         600.0         sobota\n",
            "1028    K  Dabrawa Gornicza         600.0         sobota\n",
            "1029    M            Krakow         600.0         wtorek\n",
            "\n",
            "[1030 rows x 4 columns]\n",
            "      plec  miejscowosc  cena_za_dobe\n",
            "0        1           29         220.0\n",
            "1        1           46         220.0\n",
            "2        0           64         220.0\n",
            "3        1           39         220.0\n",
            "4        1           13         220.0\n",
            "...    ...          ...           ...\n",
            "1025     0            6         600.0\n",
            "1026     1           18         600.0\n",
            "1027     1           20         600.0\n",
            "1028     0           10         600.0\n",
            "1029     1           24         600.0\n",
            "\n",
            "[1030 rows x 3 columns]\n",
            "0       3\n",
            "1       0\n",
            "2       3\n",
            "3       4\n",
            "4       1\n",
            "       ..\n",
            "1025    3\n",
            "1026    3\n",
            "1027    4\n",
            "1028    4\n",
            "1029    5\n",
            "Name: dzien_tygodnia, Length: 1030, dtype: int64\n"
          ]
        },
        {
          "output_type": "stream",
          "name": "stderr",
          "text": [
            "<ipython-input-6-3086ce38272a>:9: SettingWithCopyWarning: \n",
            "A value is trying to be set on a copy of a slice from a DataFrame.\n",
            "Try using .loc[row_indexer,col_indexer] = value instead\n",
            "\n",
            "See the caveats in the documentation: https://pandas.pydata.org/pandas-docs/stable/user_guide/indexing.html#returning-a-view-versus-a-copy\n",
            "  dane[col] = label_encoder.fit_transform(dane[col])\n",
            "<ipython-input-6-3086ce38272a>:9: SettingWithCopyWarning: \n",
            "A value is trying to be set on a copy of a slice from a DataFrame.\n",
            "Try using .loc[row_indexer,col_indexer] = value instead\n",
            "\n",
            "See the caveats in the documentation: https://pandas.pydata.org/pandas-docs/stable/user_guide/indexing.html#returning-a-view-versus-a-copy\n",
            "  dane[col] = label_encoder.fit_transform(dane[col])\n",
            "<ipython-input-6-3086ce38272a>:9: SettingWithCopyWarning: \n",
            "A value is trying to be set on a copy of a slice from a DataFrame.\n",
            "Try using .loc[row_indexer,col_indexer] = value instead\n",
            "\n",
            "See the caveats in the documentation: https://pandas.pydata.org/pandas-docs/stable/user_guide/indexing.html#returning-a-view-versus-a-copy\n",
            "  dane[col] = label_encoder.fit_transform(dane[col])\n"
          ]
        }
      ]
    },
    {
      "cell_type": "code",
      "source": [
        "# 5. Podział na zbiory treningowy i testowy\n",
        "# Dzielimy dane na część do trenowania modelu i część testową\n",
        "\n",
        "X_train, X_test, y_train, y_test = train_test_split(X, y, test_size=0.2)\n"
      ],
      "metadata": {
        "id": "qFekiEvlM3Qd"
      },
      "execution_count": 7,
      "outputs": []
    },
    {
      "cell_type": "code",
      "source": [
        "# 6. Klasyfikatory\n",
        "# Tworzymy modele, które będziemy testować\n",
        "# Tworzymy model RandomForestClassifier\n",
        "model_rf = RandomForestClassifier(n_estimators=100, random_state=0)\n",
        "\n",
        "# Tworzymy model LogisticRegression\n",
        "model_lr = LogisticRegression(max_iter=10000)\n",
        "\n",
        "# Tworzymy model KNeighborsClassifier\n",
        "model_kn = KNeighborsClassifier()\n"
      ],
      "metadata": {
        "id": "q9z4c7FHM6dM"
      },
      "execution_count": 8,
      "outputs": []
    },
    {
      "cell_type": "code",
      "source": [
        "# 7. Trenowanie i ocena\n",
        "# Dla każdego modelu trenujemy go na danych treningowych, przewidujemy wyniki i oceniamy skuteczność\n",
        "model_rf.fit(X_train, y_train)\n",
        "model_lr.fit(X_train, y_train)\n",
        "model_kn.fit(X_train, y_train)\n",
        "\n",
        "# Testowanie modelu\n",
        "y_pred_rf = model_rf.predict(X_test)\n",
        "accuracy_rf = accuracy_score(y_test, y_pred_rf)\n",
        "report_rf = classification_report(y_test, y_pred_rf, zero_division=0)\n",
        "\n",
        "y_pred_lr = model_lr.predict(X_test)\n",
        "accuracy_lr = accuracy_score(y_test, y_pred_lr)\n",
        "report_lr = classification_report(y_test, y_pred_lr, zero_division=0)\n",
        "\n",
        "y_pred_kn = model_kn.predict(X_test)\n",
        "accuracy_kn = accuracy_score(y_test, y_pred_kn)\n",
        "report_kn = classification_report(y_test, y_pred_kn, zero_division=0)\n",
        "\n",
        "print(\"Dokładność modelu Random Forest:\", round(accuracy_rf * 100, 2), \"%\")\n",
        "print(\"Raport klasyfikacji:\\n\", report_rf)\n",
        "print(\"Dokładność modelu Logistic Regression:\", round(accuracy_lr * 100, 2), \"%\")\n",
        "print(\"Raport klasyfikacji:\\n\", report_lr)\n",
        "print(\"Dokładność modelu KNeighbors Classifier:\", round(accuracy_kn * 100, 2), \"%\")\n",
        "print(\"Raport klasyfikacji:\\n\", report_kn)\n"
      ],
      "metadata": {
        "id": "dGAxjpViM9Ho",
        "colab": {
          "base_uri": "https://localhost:8080/"
        },
        "outputId": "846b6f62-b888-474b-dc57-9ccaeb058b54"
      },
      "execution_count": 9,
      "outputs": [
        {
          "output_type": "stream",
          "name": "stdout",
          "text": [
            "Dokładność modelu Random Forest: 18.93 %\n",
            "Raport klasyfikacji:\n",
            "               precision    recall  f1-score   support\n",
            "\n",
            "           0       0.06      0.04      0.05        23\n",
            "           1       0.27      0.37      0.31        49\n",
            "           2       0.22      0.24      0.23        37\n",
            "           3       0.08      0.09      0.08        23\n",
            "           4       0.17      0.15      0.16        40\n",
            "           5       0.07      0.05      0.06        22\n",
            "           6       0.33      0.17      0.22        12\n",
            "\n",
            "    accuracy                           0.19       206\n",
            "   macro avg       0.17      0.16      0.16       206\n",
            "weighted avg       0.18      0.19      0.18       206\n",
            "\n",
            "Dokładność modelu Logistic Regression: 20.39 %\n",
            "Raport klasyfikacji:\n",
            "               precision    recall  f1-score   support\n",
            "\n",
            "           0       0.00      0.00      0.00        23\n",
            "           1       0.34      0.22      0.27        49\n",
            "           2       0.18      0.78      0.29        37\n",
            "           3       0.00      0.00      0.00        23\n",
            "           4       0.22      0.05      0.08        40\n",
            "           5       0.00      0.00      0.00        22\n",
            "           6       0.00      0.00      0.00        12\n",
            "\n",
            "    accuracy                           0.20       206\n",
            "   macro avg       0.11      0.15      0.09       206\n",
            "weighted avg       0.16      0.20      0.13       206\n",
            "\n",
            "Dokładność modelu KNeighbors Classifier: 19.9 %\n",
            "Raport klasyfikacji:\n",
            "               precision    recall  f1-score   support\n",
            "\n",
            "           0       0.19      0.22      0.20        23\n",
            "           1       0.24      0.33      0.27        49\n",
            "           2       0.20      0.24      0.22        37\n",
            "           3       0.07      0.09      0.08        23\n",
            "           4       0.32      0.23      0.26        40\n",
            "           5       0.00      0.00      0.00        22\n",
            "           6       0.00      0.00      0.00        12\n",
            "\n",
            "    accuracy                           0.20       206\n",
            "   macro avg       0.15      0.16      0.15       206\n",
            "weighted avg       0.18      0.20      0.19       206\n",
            "\n"
          ]
        }
      ]
    },
    {
      "cell_type": "code",
      "source": [
        "# 8. Ważność cech - tylko dla Random Forest\n",
        "# Sprawdzamy, które cechy miały największy wpływ na decyzje klasyfikatora Random Forest\n",
        "importances = model_rf.feature_importances_\n",
        "print(\"Ważność cech w modelu Random Forest:\")\n",
        "for feature, importance in zip(X.columns, importances):\n",
        "  print(f\"{feature}: {round(importance, 2)}\")\n"
      ],
      "metadata": {
        "id": "NIjiaHhLM_UI",
        "colab": {
          "base_uri": "https://localhost:8080/"
        },
        "outputId": "d2e64b64-87b4-4d68-9a18-88d09d6455e5"
      },
      "execution_count": 10,
      "outputs": [
        {
          "output_type": "stream",
          "name": "stdout",
          "text": [
            "Ważność cech w modelu Random Forest:\n",
            "plec: 0.02\n",
            "miejscowosc: 0.83\n",
            "cena_za_dobe: 0.15\n"
          ]
        }
      ]
    },
    {
      "cell_type": "code",
      "source": [
        "# 9. Przykład klasyfikacji nowego przypadku\n",
        "# Tworzymy przykładowe dane: kobieta z Warszawy, cena za dobę 320 zł\n",
        "nowe_dane = pd.DataFrame({\n",
        "    \"plec\": [\"K\"],\n",
        "    \"miejscowosc\": [\"Krakow\"],\n",
        "    \"cena_za_dobe\": [320.0]\n",
        "})\n"
      ],
      "metadata": {
        "id": "ajd0ruTENBb6"
      },
      "execution_count": 11,
      "outputs": []
    },
    {
      "cell_type": "code",
      "source": [
        "print(nowe_dane['plec'].dtype == 'int64')"
      ],
      "metadata": {
        "colab": {
          "base_uri": "https://localhost:8080/"
        },
        "id": "H4BN_iRZpBRm",
        "outputId": "d605fb5c-ff1d-498a-9d38-fe55dd419e04"
      },
      "execution_count": 12,
      "outputs": [
        {
          "output_type": "stream",
          "name": "stdout",
          "text": [
            "False\n"
          ]
        }
      ]
    },
    {
      "cell_type": "markdown",
      "source": [],
      "metadata": {
        "id": "lOb_Q2b7y4Lu"
      }
    },
    {
      "cell_type": "code",
      "source": [
        "# 10. Przewidujemy dzień tygodnia modelem RandomForest\n",
        "# Koduje wartości tekstowe zgodnie z wcześniej utworzonymi koderami\n",
        "for elem in ['plec', 'miejscowosc']:\n",
        "  if nowe_dane[elem].dtype != 'int64':  #  Zapewnienie przypadku, gdy dane zostały już transkodowane\n",
        "    nowe_dane[elem] = encoders[elem].transform(nowe_dane[elem])\n",
        "\n",
        "# Przewidywanie dnia tygodnia\n",
        "prediction = model_rf.predict(nowe_dane)\n",
        "predict_day = encoders['dzien_tygodnia'].inverse_transform(prediction)\n",
        "print(\"Przewidywany dzień tygodnia -\", *predict_day)\n"
      ],
      "metadata": {
        "id": "zcOUbCBxNFeo",
        "colab": {
          "base_uri": "https://localhost:8080/"
        },
        "outputId": "fc82f5ce-e9bb-4184-8e93-fe228278a078"
      },
      "execution_count": 13,
      "outputs": [
        {
          "output_type": "stream",
          "name": "stdout",
          "text": [
            "Przewidywany dzień tygodnia - niedziela\n"
          ]
        }
      ]
    }
  ]
}